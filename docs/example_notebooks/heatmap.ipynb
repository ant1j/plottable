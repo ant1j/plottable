{
 "cells": [
  {
   "cell_type": "markdown",
   "id": "c4c59ec3",
   "metadata": {},
   "source": [
    "# Heatmap Example"
   ]
  },
  {
   "cell_type": "code",
   "execution_count": 1,
   "id": "f01d7352-fadb-48c3-a124-77c56a6ac0df",
   "metadata": {},
   "outputs": [],
   "source": [
    "%load_ext autoreload\n",
    "%autoreload 2\n",
    "\n",
    "import matplotlib.pyplot as plt\n",
    "import numpy as np\n",
    "import pandas as pd\n",
    "from matplotlib.colors import LinearSegmentedColormap, ListedColormap\n",
    "from matplotlib.patches import BoxStyle\n",
    "\n",
    "from mpltable import ColDef, Table"
   ]
  },
  {
   "cell_type": "code",
   "execution_count": 2,
   "id": "a381419c-1c73-4ce5-8a8c-9a5e5c368d79",
   "metadata": {},
   "outputs": [],
   "source": [
    "cmap = LinearSegmentedColormap.from_list(\n",
    "    name=\"BuYl\", colors=[\"#01a6ff\", \"#eafedb\", \"#fffdbb\", \"#ffc834\"], N=256\n",
    ")"
   ]
  },
  {
   "cell_type": "code",
   "execution_count": 3,
   "id": "91651fe1-22e6-4671-981c-fd17816c5771",
   "metadata": {},
   "outputs": [
    {
     "data": {
      "image/png": "[encoded data removed]",
      "text/plain": [
       "<Figure size 1008x360 with 1 Axes>"
      ]
     },
     "metadata": {
      "needs_background": "light"
     },
     "output_type": "display_data"
    }
   ],
   "source": [
    "cities = [\n",
    "    \"TORONTO\",\n",
    "    \"VANCOUVER\",\n",
    "    \"HALIFAX\",\n",
    "    \"CALGARY\",\n",
    "    \"OTTAWA\",\n",
    "    \"MONTREAL\",\n",
    "    \"WINNIPEG\",\n",
    "    \"EDMONTON\",\n",
    "    \"LONDON\",\n",
    "    \"ST. JONES\",\n",
    "]\n",
    "months = [\n",
    "    \"JAN\",\n",
    "    \"FEB\",\n",
    "    \"MAR\",\n",
    "    \"APR\",\n",
    "    \"MAY\",\n",
    "    \"JUN\",\n",
    "    \"JUL\",\n",
    "    \"AUG\",\n",
    "    \"SEP\",\n",
    "    \"OCT\",\n",
    "    \"NOV\",\n",
    "    \"DEC\",\n",
    "]\n",
    "\n",
    "data = np.random.random((10, 12)) + np.abs(np.arange(12) - 5.5)\n",
    "data = (1 - data / (np.max(data)))\n",
    "\n",
    "\n",
    "d = pd.DataFrame(data, columns=months, index=cities).round(2)\n",
    "\n",
    "fig, ax = plt.subplots(figsize=(14, 5))\n",
    "\n",
    "\n",
    "column_definitions = [\n",
    "    ColDef(name, cmap=cmap, formatter=lambda x: \"\") for name in months\n",
    "] + [ColDef(\"index\", title=\"\", width=1.5, textprops={\"ha\": \"right\"})]\n",
    "\n",
    "tab = Table(\n",
    "    d,\n",
    "    column_definitions=column_definitions,\n",
    "    row_dividers=False,\n",
    "    col_label_divider=False,\n",
    "    textprops={\"ha\": \"center\", \"fontname\": \"Roboto\"},\n",
    "    cell_kw={\n",
    "        \"edgecolor\": \"w\",\n",
    "        \"linewidth\": 0,\n",
    "    },\n",
    ")\n",
    "\n",
    "\n",
    "tab.col_label_row.set_facecolor(\"k\")\n",
    "tab.col_label_row.set_fontcolor(\"w\")\n",
    "tab.columns[\"index\"].set_facecolor(\"k\")\n",
    "tab.columns[\"index\"].set_fontcolor(\"w\")\n",
    "tab.columns[\"index\"].set_linewidth(0)\n",
    "\n",
    "\n",
    "plt.show()\n",
    "\n",
    "\n",
    "fig.savefig(\"images/calender.png\", dpi=200)"
   ]
  },
  {
   "cell_type": "code",
   "execution_count": null,
   "id": "70cdae3a-37ca-418a-849c-5d29c4b7b9da",
   "metadata": {},
   "outputs": [],
   "source": []
  }
 ],
 "metadata": {
  "kernelspec": {
   "display_name": "Python 3.10.5 64-bit ('3.10.5')",
   "language": "python",
   "name": "python3"
  },
  "language_info": {
   "codemirror_mode": {
    "name": "ipython",
    "version": 3
   },
   "file_extension": ".py",
   "mimetype": "text/x-python",
   "name": "python",
   "nbconvert_exporter": "python",
   "pygments_lexer": "ipython3",
   "version": "3.10.5"
  },
  "vscode": {
   "interpreter": {
    "hash": "53d27a3671bc508c8fde8f8da0eca5c99907a8bc3843e6af2b62c6ca3e59a528"
   }
  }
 },
 "nbformat": 4,
 "nbformat_minor": 5
}
