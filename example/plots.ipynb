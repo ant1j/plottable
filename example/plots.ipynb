{
 "cells": [
  {
   "cell_type": "code",
   "execution_count": 1,
   "id": "8931e544-fb22-4fe0-8a35-19b82a0661ce",
   "metadata": {},
   "outputs": [],
   "source": [
    "%load_ext autoreload\n",
    "%autoreload 2\n",
    "\n",
    "from pathlib import Path\n",
    "\n",
    "import matplotlib.pyplot as plt\n",
    "import numpy as np\n",
    "import pandas as pd\n",
    "from matplotlib.colors import LinearSegmentedColormap\n",
    "\n",
    "from mpltable import ColumnDefinition, Table\n",
    "from mpltable.plots import *"
   ]
  },
  {
   "cell_type": "code",
   "execution_count": null,
   "id": "f76b4cac-a9ce-409f-9c64-9f0485ca138c",
   "metadata": {},
   "outputs": [],
   "source": []
  },
  {
   "cell_type": "code",
   "execution_count": 2,
   "id": "e7e81c16-d59c-4876-8d81-06305ebc229d",
   "metadata": {},
   "outputs": [],
   "source": [
    "path = list(Path(\"country_flags\").glob(\"*.png\"))[0]"
   ]
  },
  {
   "cell_type": "code",
   "execution_count": 3,
   "id": "aae4a3d6-12e6-49b1-aa5f-2a593c06a09d",
   "metadata": {},
   "outputs": [],
   "source": [
    "cmap = LinearSegmentedColormap.from_list(\n",
    "    name=\"bugw\", colors=[\"#ffffff\", \"#f2fbd2\", \"#c9ecb4\", \"#93d3ab\", \"#35b0ab\"], N=256\n",
    ")"
   ]
  },
  {
   "cell_type": "code",
   "execution_count": 4,
   "id": "2d3babb8-4bbf-4c10-8d5f-37cb8afa0ef7",
   "metadata": {},
   "outputs": [
    {
     "data": {
      "image/png": "[encoded data removed]",
      "text/plain": [
       "<Figure size 72x36 with 1 Axes>"
      ]
     },
     "metadata": {
      "needs_background": "light"
     },
     "output_type": "display_data"
    }
   ],
   "source": [
    "fig, ax = plt.subplots(figsize=(1, 0.5))\n",
    "\n",
    "percentile_bars(ax=ax, val=72, color=\"#b0db7c\", faded_color=\"#f0f0f0\", is_pct=False)\n",
    "\n",
    "plt.show()\n",
    "\n",
    "# fig.savefig(Path.home() / \"Downloads/percentile_plot.png\")"
   ]
  },
  {
   "cell_type": "code",
   "execution_count": null,
   "id": "32761186-b322-406b-95a4-4cbbe9159610",
   "metadata": {},
   "outputs": [],
   "source": []
  },
  {
   "cell_type": "code",
   "execution_count": null,
   "id": "43b1c53b-a778-45d6-a15d-20a191fd8842",
   "metadata": {},
   "outputs": [],
   "source": []
  },
  {
   "cell_type": "code",
   "execution_count": 5,
   "id": "dc186dc1-2c76-4cae-ab6d-c60676fcd54d",
   "metadata": {},
   "outputs": [
    {
     "data": {
      "image/png": "[encoded data removed]",
      "text/plain": [
       "<Figure size 72x72 with 1 Axes>"
      ]
     },
     "metadata": {
      "needs_background": "light"
     },
     "output_type": "display_data"
    }
   ],
   "source": [
    "fig, ax = plt.subplots(figsize=(1, 1))\n",
    "\n",
    "image(ax, path)\n",
    "\n",
    "plt.show()"
   ]
  },
  {
   "cell_type": "code",
   "execution_count": null,
   "id": "f5eea5cd-a557-42f6-bd40-8f1fe7a1ce6a",
   "metadata": {},
   "outputs": [],
   "source": []
  },
  {
   "cell_type": "code",
   "execution_count": 6,
   "id": "15c8c3f8-76a1-4d44-988b-31b9f1ab8cc5",
   "metadata": {},
   "outputs": [
    {
     "data": {
      "image/png": "[encoded data removed]",
      "text/plain": [
       "<Figure size 72x72 with 1 Axes>"
      ]
     },
     "metadata": {
      "needs_background": "light"
     },
     "output_type": "display_data"
    }
   ],
   "source": [
    "fig, ax = plt.subplots(figsize=(1, 1))\n",
    "\n",
    "circled_image(ax, path)\n",
    "\n",
    "plt.show()"
   ]
  },
  {
   "cell_type": "code",
   "execution_count": null,
   "id": "b52a6faf-a7b1-4445-853c-c02d258d9c27",
   "metadata": {},
   "outputs": [],
   "source": []
  },
  {
   "cell_type": "code",
   "execution_count": 7,
   "id": "30dded06-a092-4313-a466-b4bddb95b9d1",
   "metadata": {},
   "outputs": [
    {
     "data": {
      "image/png": "[encoded data removed]",
      "text/plain": [
       "<Figure size 72x72 with 1 Axes>"
      ]
     },
     "metadata": {
      "needs_background": "light"
     },
     "output_type": "display_data"
    }
   ],
   "source": [
    "fig, ax = plt.subplots(figsize=(1, 1))\n",
    "\n",
    "circled_image(ax, path, linewidth=2, visible=True, edgecolor=\"#999999\")\n",
    "\n",
    "plt.show()"
   ]
  },
  {
   "cell_type": "code",
   "execution_count": null,
   "id": "144a37bf-703d-4770-a7d7-da8e97762167",
   "metadata": {},
   "outputs": [],
   "source": []
  },
  {
   "cell_type": "code",
   "execution_count": 8,
   "id": "9354e86e-48f5-4448-850d-3b9404b0952a",
   "metadata": {},
   "outputs": [
    {
     "data": {
      "text/plain": [
       "<matplotlib.collections.PathCollection at 0x23af4b72650>"
      ]
     },
     "execution_count": 8,
     "metadata": {},
     "output_type": "execute_result"
    },
    {
     "data": {
      "image/png": "[encoded data removed]",
      "text/plain": [
       "<Figure size 144x72 with 1 Axes>"
      ]
     },
     "metadata": {
      "needs_background": "light"
     },
     "output_type": "display_data"
    }
   ],
   "source": [
    "fig, ax = plt.subplots(figsize=(2, 1))\n",
    "\n",
    "percentile_stars(ax, 70, faded_color=\"#f0f0f0\")"
   ]
  },
  {
   "cell_type": "code",
   "execution_count": null,
   "id": "e22d2918-105a-4d68-9fea-df9c3a5023f2",
   "metadata": {},
   "outputs": [],
   "source": []
  },
  {
   "cell_type": "code",
   "execution_count": 9,
   "id": "bdf9df1f-29c2-48f6-9408-be0e5fceb1a8",
   "metadata": {},
   "outputs": [
    {
     "data": {
      "image/png": "[encoded data removed]",
      "text/plain": [
       "<Figure size 72x72 with 1 Axes>"
      ]
     },
     "metadata": {
      "needs_background": "light"
     },
     "output_type": "display_data"
    }
   ],
   "source": [
    "fig, ax = plt.subplots(figsize=(1, 1))\n",
    "progress_donut(ax, 73, textprops={\"fontsize\": 14})\n",
    "plt.show()"
   ]
  },
  {
   "cell_type": "code",
   "execution_count": 10,
   "id": "8168269e-1f5a-401d-be3a-3d189e17fb57",
   "metadata": {},
   "outputs": [
    {
     "data": {
      "image/png": "[encoded data removed]",
      "text/plain": [
       "<Figure size 72x72 with 1 Axes>"
      ]
     },
     "metadata": {
      "needs_background": "light"
     },
     "output_type": "display_data"
    }
   ],
   "source": [
    "fig, ax = plt.subplots(figsize=(1, 1))\n",
    "bar(ax, 1, color=\"k\", cmap=cmap)\n",
    "plt.show()"
   ]
  },
  {
   "cell_type": "code",
   "execution_count": 11,
   "id": "007c6a7b-6052-46af-ae0b-44d3e4875708",
   "metadata": {},
   "outputs": [
    {
     "data": {
      "image/png": "[encoded data removed]",
      "text/plain": [
       "<Figure size 72x72 with 1 Axes>"
      ]
     },
     "metadata": {
      "needs_background": "light"
     },
     "output_type": "display_data"
    }
   ],
   "source": [
    "fig, ax = plt.subplots(figsize=(1, 1))\n",
    "bar(ax, 0.5, plot_bg_bar=True, cmap=cmap, annotate=True, lw=1, height=0.35)\n",
    "plt.show()"
   ]
  },
  {
   "cell_type": "code",
   "execution_count": null,
   "id": "b1e776fc-b6be-4e8d-8f1f-b3f0d820db31",
   "metadata": {},
   "outputs": [],
   "source": []
  },
  {
   "cell_type": "code",
   "execution_count": null,
   "id": "f9711f23-4a53-4d81-ba10-10caf21d4e4a",
   "metadata": {},
   "outputs": [],
   "source": []
  },
  {
   "cell_type": "code",
   "execution_count": 12,
   "id": "eba1b4ec-15ed-47e3-9d62-6563fce2983b",
   "metadata": {},
   "outputs": [
    {
     "data": {
      "image/png": "[encoded data removed]",
      "text/plain": [
       "<Figure size 432x864 with 41 Axes>"
      ]
     },
     "metadata": {
      "needs_background": "light"
     },
     "output_type": "display_data"
    }
   ],
   "source": [
    "fig, ax = plt.subplots(figsize=(6, 12))\n",
    "\n",
    "d = pd.DataFrame(np.random.random((10, 4)), columns=[\"A\", \"B\", \"C\", \"D\"]).round(2)\n",
    "\n",
    "tab = Table(\n",
    "    d,\n",
    "    cell_kw={\n",
    "        \"linewidth\": 0,\n",
    "        \"edgecolor\": \"k\",\n",
    "    },\n",
    "    textprops={\"ha\": \"center\"},\n",
    "    column_definitions=[\n",
    "        ColumnDefinition(\"index\", textprops={\"ha\": \"left\"}),\n",
    "        ColumnDefinition(\"A\", plot_fn=percentile_bars, plot_kw={\"is_pct\": True}),\n",
    "        ColumnDefinition(\n",
    "            \"B\", width=1.5, plot_fn=percentile_stars, plot_kw={\"is_pct\": True}\n",
    "        ),\n",
    "        ColumnDefinition(\"C\", plot_fn=progress_donut, plot_kw={\"is_pct\": True}),\n",
    "        ColumnDefinition(\n",
    "            \"D\",\n",
    "            width=1.25,\n",
    "            plot_fn=bar,\n",
    "            plot_kw={\n",
    "                \"cmap\": cmap,\n",
    "                \"plot_bg_bar\": True,\n",
    "                \"annotate\": True,\n",
    "                \"height\": 0.5,\n",
    "                \"lw\": 0.5,\n",
    "            },\n",
    "        ),\n",
    "    ],\n",
    ")\n",
    "\n",
    "plt.show()"
   ]
  },
  {
   "cell_type": "code",
   "execution_count": null,
   "id": "cc62510d-8789-4cec-8875-efb4131138c0",
   "metadata": {},
   "outputs": [],
   "source": []
  }
 ],
 "metadata": {
  "kernelspec": {
   "display_name": "Python 3 (ipykernel)",
   "language": "python",
   "name": "python3"
  },
  "language_info": {
   "codemirror_mode": {
    "name": "ipython",
    "version": 3
   },
   "file_extension": ".py",
   "mimetype": "text/x-python",
   "name": "python",
   "nbconvert_exporter": "python",
   "pygments_lexer": "ipython3",
   "version": "3.10.5"
  }
 },
 "nbformat": 4,
 "nbformat_minor": 5
}
